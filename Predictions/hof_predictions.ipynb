{
 "cells": [
  {
   "cell_type": "markdown",
   "id": "56be039a-9dfb-4a36-89e2-905fd5da36c0",
   "metadata": {},
   "source": [
    "# Hall of Fame Predictions"
   ]
  },
  {
   "cell_type": "markdown",
   "id": "f3af40d2-afae-4a13-9320-3420c9dc91c2",
   "metadata": {},
   "source": [
    "#### This notebook will construct a predictive machine learning model building upon the previous steps taken in this project"
   ]
  },
  {
   "cell_type": "markdown",
   "id": "e14aeaac-09a4-42a9-a0a3-8e8fb5c745aa",
   "metadata": {},
   "source": [
    "Notes: \n",
    "- The upcoming models solely consider NBA career achievements, excluding international careers, coaching roles, or anything outside of the NBA.\n",
    "- I am also focusing on individual statistics, not team accomplishments. Championships, in my opinion, is the distinction that separates the top 10-15 greatest players of all time and does not have as much weight below that. Also, everyone on the winning team gets a championship ring, so it may complicate the model.\n",
    "- To generally encompass the value a player produced for their team, I will include career win% and win shares instead.\n",
    "- I plan to use Random Forest for my model because I think it suits my data and goal the best, but I can test other options."
   ]
  },
  {
   "cell_type": "markdown",
   "id": "838f2ee0-90cf-4140-bb80-73788025ae95",
   "metadata": {},
   "source": [
    "#### Please see HOF_factors.md in the 'visualization' folder for an examination of several factors."
   ]
  },
  {
   "cell_type": "code",
   "execution_count": 6782,
   "id": "95e7c612-8680-4389-9987-a19d74894b4b",
   "metadata": {},
   "outputs": [],
   "source": [
    "# import the necessary libraries\n",
    "import numpy as np\n",
    "import pandas\n",
    "from sklearn.ensemble import RandomForestClassifier\n",
    "from sklearn.model_selection import train_test_split\n",
    "from sklearn.preprocessing import StandardScaler\n",
    "from sklearn.metrics import confusion_matrix, classification_report, accuracy_score\n",
    "import joblib\n",
    "from sklearn.preprocessing import OneHotEncoder\n",
    "pd.set_option('display.max_columns', None)"
   ]
  },
  {
   "cell_type": "code",
   "execution_count": 6783,
   "id": "2011c557-09ec-4865-b8fd-380a26b74d78",
   "metadata": {},
   "outputs": [],
   "source": [
    "# Hall of Fame inductions are based on overall careers, so I need to read in my careers data\n",
    "careers = pd.read_csv('careers.csv')"
   ]
  },
  {
   "cell_type": "markdown",
   "id": "5453989a-3512-4e11-a59f-95b7b1091857",
   "metadata": {},
   "source": [
    "I need a set of eligible careers because only players that have been retired for 4 full seasons are eligible for the HOF"
   ]
  },
  {
   "cell_type": "code",
   "execution_count": 6784,
   "id": "84981e03-1bab-4375-8d7c-16b7448b616e",
   "metadata": {},
   "outputs": [],
   "source": [
    "eligible = careers[careers['last year'] <= 2019]"
   ]
  },
  {
   "cell_type": "markdown",
   "id": "95e8b9cf-1cac-4d27-9a4c-141952485293",
   "metadata": {},
   "source": [
    "## Model 1: Random Forest Classifier"
   ]
  },
  {
   "cell_type": "markdown",
   "id": "351fe6d0-ec5d-4189-8156-0982e9f82190",
   "metadata": {},
   "source": [
    "My first model will simply feature every explanatory variable from the data, including basic, advanced, and team stats. I expect it to work decently well because I tailored the data set towards this goal. However, some factors ignored: position and era."
   ]
  },
  {
   "cell_type": "code",
   "execution_count": 6785,
   "id": "8798dcf5-90b2-40a3-9a8d-721840216bc8",
   "metadata": {},
   "outputs": [],
   "source": [
    "x = eligible.drop(columns = ['first year', 'last year', 'hof', 'player_id', 'player', 'Unnamed: 0', 'pos'])\n",
    "# hopefully, this will reduce noise and be more accurate\n",
    "y = eligible['hof']\n",
    "sc = StandardScaler()\n",
    "x = sc.fit_transform(x) # fit and transform all x variables to the proper scaling\n",
    "# split into testing data and training data\n",
    "x_train, x_test, y_train, y_test = train_test_split(x, y, test_size=0.2, random_state=42)\n",
    "rfc = RandomForestClassifier(n_estimators=200)\n",
    "rfc.fit(x_train, y_train)\n",
    "pred1 = rfc.predict(x_test)"
   ]
  },
  {
   "cell_type": "markdown",
   "id": "891d2d84-6869-42e8-9ff4-6d031d3bd360",
   "metadata": {},
   "source": [
    "#### Accuracy Score:"
   ]
  },
  {
   "cell_type": "code",
   "execution_count": 6786,
   "id": "df643831-d0ff-4c8d-92f0-92082e4558ac",
   "metadata": {},
   "outputs": [
    {
     "data": {
      "text/plain": [
       "0.9818941504178273"
      ]
     },
     "execution_count": 6786,
     "metadata": {},
     "output_type": "execute_result"
    }
   ],
   "source": [
    "accuracy_score(y_test, pred1)"
   ]
  },
  {
   "cell_type": "markdown",
   "id": "fd2bbc68-dcf2-4bc7-89c0-9f79990a8a05",
   "metadata": {},
   "source": [
    "#### Classification Report:"
   ]
  },
  {
   "cell_type": "code",
   "execution_count": 6787,
   "id": "1c4c296c-3794-4eb6-9d3c-cb92f570eb17",
   "metadata": {},
   "outputs": [
    {
     "data": {
      "text/html": [
       "<div>\n",
       "<style scoped>\n",
       "    .dataframe tbody tr th:only-of-type {\n",
       "        vertical-align: middle;\n",
       "    }\n",
       "\n",
       "    .dataframe tbody tr th {\n",
       "        vertical-align: top;\n",
       "    }\n",
       "\n",
       "    .dataframe thead th {\n",
       "        text-align: right;\n",
       "    }\n",
       "</style>\n",
       "<table border=\"1\" class=\"dataframe\">\n",
       "  <thead>\n",
       "    <tr style=\"text-align: right;\">\n",
       "      <th></th>\n",
       "      <th>Not HOF</th>\n",
       "      <th>HOF</th>\n",
       "      <th>accuracy</th>\n",
       "      <th>macro avg</th>\n",
       "      <th>weighted avg</th>\n",
       "    </tr>\n",
       "  </thead>\n",
       "  <tbody>\n",
       "    <tr>\n",
       "      <th>precision</th>\n",
       "      <td>0.986938</td>\n",
       "      <td>0.862069</td>\n",
       "      <td>0.981894</td>\n",
       "      <td>0.924503</td>\n",
       "      <td>0.981025</td>\n",
       "    </tr>\n",
       "    <tr>\n",
       "      <th>recall</th>\n",
       "      <td>0.994152</td>\n",
       "      <td>0.735294</td>\n",
       "      <td>0.981894</td>\n",
       "      <td>0.864723</td>\n",
       "      <td>0.981894</td>\n",
       "    </tr>\n",
       "    <tr>\n",
       "      <th>f1-score</th>\n",
       "      <td>0.990532</td>\n",
       "      <td>0.793651</td>\n",
       "      <td>0.981894</td>\n",
       "      <td>0.892091</td>\n",
       "      <td>0.981209</td>\n",
       "    </tr>\n",
       "    <tr>\n",
       "      <th>support</th>\n",
       "      <td>684.000000</td>\n",
       "      <td>34.000000</td>\n",
       "      <td>0.981894</td>\n",
       "      <td>718.000000</td>\n",
       "      <td>718.000000</td>\n",
       "    </tr>\n",
       "  </tbody>\n",
       "</table>\n",
       "</div>"
      ],
      "text/plain": [
       "              Not HOF        HOF  accuracy   macro avg  weighted avg\n",
       "precision    0.986938   0.862069  0.981894    0.924503      0.981025\n",
       "recall       0.994152   0.735294  0.981894    0.864723      0.981894\n",
       "f1-score     0.990532   0.793651  0.981894    0.892091      0.981209\n",
       "support    684.000000  34.000000  0.981894  718.000000    718.000000"
      ]
     },
     "execution_count": 6787,
     "metadata": {},
     "output_type": "execute_result"
    }
   ],
   "source": [
    "target_names = ['Not HOF', 'HOF']\n",
    "report = classification_report(y_test, pred1, target_names=target_names, output_dict=True)\n",
    "pd.DataFrame(report)"
   ]
  },
  {
   "cell_type": "markdown",
   "id": "b84bd9a0-b5fa-46c6-9233-b12dc34693a9",
   "metadata": {},
   "source": [
    "#### Confusion Matrix Heatmap:"
   ]
  },
  {
   "cell_type": "code",
   "execution_count": 6788,
   "id": "c90da25f-bd64-4c71-879d-bff1c49e4f92",
   "metadata": {},
   "outputs": [
    {
     "data": {
      "image/png": "[encoded data removed]",
      "text/plain": [
       "<Figure size 600x400 with 1 Axes>"
      ]
     },
     "metadata": {},
     "output_type": "display_data"
    }
   ],
   "source": [
    "confusion_mtx = confusion_matrix(y_test, pred1)\n",
    "confusion_mtx_percent = confusion_mtx.astype('float') / confusion_mtx.sum(axis=1)[:, np.newaxis] * 100\n",
    "plt.figure(figsize=(6, 4))\n",
    "sns.heatmap(confusion_mtx_percent, annot=True, fmt='.2f', cmap='Reds', cbar=False,\n",
    "            xticklabels=['Not in HOF', 'In HOF'],\n",
    "            yticklabels=['Not in HOF', 'In HOF'])\n",
    "plt.xlabel('Predicted')\n",
    "plt.ylabel('Actual')\n",
    "plt.title('Confusion Matrix (Percentages)')\n",
    "plt.show()"
   ]
  },
  {
   "cell_type": "markdown",
   "id": "a116df09-5f0d-40ff-b391-9a96cc13170d",
   "metadata": {},
   "source": [
    "This model predicted players that missed the Hall of Fame well, but it was not very accurate in identifying the inducted players."
   ]
  },
  {
   "cell_type": "markdown",
   "id": "9fca0f66-9ed3-4a12-a29c-270f6e076e38",
   "metadata": {},
   "source": [
    "## Model 2: Improved Features"
   ]
  },
  {
   "cell_type": "markdown",
   "id": "6dedae70-e7c1-403e-b115-b0405d316651",
   "metadata": {},
   "source": [
    "To uncover the most important features, I will make a bar chart to visualize which factors had the most impact"
   ]
  },
  {
   "cell_type": "code",
   "execution_count": 6789,
   "id": "9a1be491-4a71-4570-9ead-1a0ea059e722",
   "metadata": {},
   "outputs": [
    {
     "data": {
      "image/png": "[encoded data removed]",
      "text/plain": [
       "<Figure size 1200x600 with 1 Axes>"
      ]
     },
     "metadata": {},
     "output_type": "display_data"
    }
   ],
   "source": [
    "# Get feature importances\n",
    "feature_importances = rfc.feature_importances_\n",
    "# Create a dictionary mapping feature names to their importance scores\n",
    "feature_importance_dict = {feature: importance for feature, importance in zip(feature_names, feature_importances)}\n",
    "sorted_feature_importance = dict(sorted(feature_importance_dict.items(), key=lambda item: item[1], reverse=True))\n",
    "# Create a bar plot to visualize feature importances\n",
    "plt.figure(figsize=(12, 6))\n",
    "plt.bar(sorted_feature_importance.keys(), sorted_feature_importance.values())\n",
    "plt.xticks(rotation='vertical')\n",
    "plt.xlabel(\"Features\")\n",
    "plt.ylabel(\"Importance\")\n",
    "plt.title(\"Feature Importances from Random Forest\")\n",
    "plt.show()"
   ]
  },
  {
   "cell_type": "markdown",
   "id": "5ce56e1f-c91e-49ee-a942-e90da5b6aa07",
   "metadata": {},
   "source": [
    "A lot of features are inherently correlated with each other (ex: MVPs and MVP share). I will keep the one listed higher in importance."
   ]
  },
  {
   "cell_type": "code",
   "execution_count": 6790,
   "id": "dd3d316b-832e-4d5b-a08e-5d334d71401c",
   "metadata": {},
   "outputs": [],
   "source": [
    "x = eligible[['all stars', 'MVP share', 'ws', 'pts', 'ws/48', 'win%', 'rpg', 'ast', 'fga', 'mpg', 'stl', 'blk', 'DPOY share']]\n",
    "# hopefully, this will reduce noise and be more accurate\n",
    "y = eligible['hof']\n",
    "sc = StandardScaler()\n",
    "x = sc.fit_transform(x) # fit and transform all x variables to the proper scaling\n",
    "# split into testing data and training data\n",
    "x_train, x_test, y_train, y_test = train_test_split(x, y, test_size=0.2, random_state=42)\n",
    "rfc = RandomForestClassifier(n_estimators=200)\n",
    "rfc.fit(x_train, y_train)\n",
    "pred2 = rfc.predict(x_test)"
   ]
  },
  {
   "cell_type": "markdown",
   "id": "ed695118-d2d0-413d-aa11-6e47e7743fe3",
   "metadata": {},
   "source": [
    "#### Accuracy Score:"
   ]
  },
  {
   "cell_type": "code",
   "execution_count": 6791,
   "id": "33daff5b-1d4c-4071-abc8-7c2a34fe3298",
   "metadata": {},
   "outputs": [
    {
     "data": {
      "text/plain": [
       "0.9832869080779945"
      ]
     },
     "execution_count": 6791,
     "metadata": {},
     "output_type": "execute_result"
    }
   ],
   "source": [
    "accuracy_score(y_test, pred2)"
   ]
  },
  {
   "cell_type": "markdown",
   "id": "5ff58b9d-c573-417c-af96-a80c9013d4f8",
   "metadata": {},
   "source": [
    "#### Classification Report:"
   ]
  },
  {
   "cell_type": "code",
   "execution_count": 6792,
   "id": "d54d8f88-e095-420f-9b88-5604c82b78ef",
   "metadata": {},
   "outputs": [
    {
     "data": {
      "text/html": [
       "<div>\n",
       "<style scoped>\n",
       "    .dataframe tbody tr th:only-of-type {\n",
       "        vertical-align: middle;\n",
       "    }\n",
       "\n",
       "    .dataframe tbody tr th {\n",
       "        vertical-align: top;\n",
       "    }\n",
       "\n",
       "    .dataframe thead th {\n",
       "        text-align: right;\n",
       "    }\n",
       "</style>\n",
       "<table border=\"1\" class=\"dataframe\">\n",
       "  <thead>\n",
       "    <tr style=\"text-align: right;\">\n",
       "      <th></th>\n",
       "      <th>Not HOF</th>\n",
       "      <th>HOF</th>\n",
       "      <th>accuracy</th>\n",
       "      <th>macro avg</th>\n",
       "      <th>weighted avg</th>\n",
       "    </tr>\n",
       "  </thead>\n",
       "  <tbody>\n",
       "    <tr>\n",
       "      <th>precision</th>\n",
       "      <td>0.988372</td>\n",
       "      <td>0.866667</td>\n",
       "      <td>0.983287</td>\n",
       "      <td>0.927519</td>\n",
       "      <td>0.982609</td>\n",
       "    </tr>\n",
       "    <tr>\n",
       "      <th>recall</th>\n",
       "      <td>0.994152</td>\n",
       "      <td>0.764706</td>\n",
       "      <td>0.983287</td>\n",
       "      <td>0.879429</td>\n",
       "      <td>0.983287</td>\n",
       "    </tr>\n",
       "    <tr>\n",
       "      <th>f1-score</th>\n",
       "      <td>0.991254</td>\n",
       "      <td>0.812500</td>\n",
       "      <td>0.983287</td>\n",
       "      <td>0.901877</td>\n",
       "      <td>0.982789</td>\n",
       "    </tr>\n",
       "    <tr>\n",
       "      <th>support</th>\n",
       "      <td>684.000000</td>\n",
       "      <td>34.000000</td>\n",
       "      <td>0.983287</td>\n",
       "      <td>718.000000</td>\n",
       "      <td>718.000000</td>\n",
       "    </tr>\n",
       "  </tbody>\n",
       "</table>\n",
       "</div>"
      ],
      "text/plain": [
       "              Not HOF        HOF  accuracy   macro avg  weighted avg\n",
       "precision    0.988372   0.866667  0.983287    0.927519      0.982609\n",
       "recall       0.994152   0.764706  0.983287    0.879429      0.983287\n",
       "f1-score     0.991254   0.812500  0.983287    0.901877      0.982789\n",
       "support    684.000000  34.000000  0.983287  718.000000    718.000000"
      ]
     },
     "execution_count": 6792,
     "metadata": {},
     "output_type": "execute_result"
    }
   ],
   "source": [
    "target_names = ['Not HOF', 'HOF']\n",
    "report = classification_report(y_test, pred2, target_names=target_names, output_dict=True)\n",
    "pd.DataFrame(report)"
   ]
  },
  {
   "cell_type": "markdown",
   "id": "a672e42e-15ba-4262-bf67-659fd978c873",
   "metadata": {},
   "source": [
    "#### Confusion Matrix Heatmap:"
   ]
  },
  {
   "cell_type": "code",
   "execution_count": 6806,
   "id": "8db32821-89e6-478f-aec9-794bcbb06480",
   "metadata": {},
   "outputs": [
    {
     "ename": "ValueError",
     "evalue": "Found input variables with inconsistent numbers of samples: [219, 718]",
     "output_type": "error",
     "traceback": [
      "\u001b[0;31m---------------------------------------------------------------------------\u001b[0m",
      "\u001b[0;31mValueError\u001b[0m                                Traceback (most recent call last)",
      "Cell \u001b[0;32mIn[6806], line 1\u001b[0m\n\u001b[0;32m----> 1\u001b[0m confusion_mtx \u001b[38;5;241m=\u001b[39m \u001b[43mconfusion_matrix\u001b[49m\u001b[43m(\u001b[49m\u001b[43my_test\u001b[49m\u001b[43m,\u001b[49m\u001b[43m \u001b[49m\u001b[43mpred2\u001b[49m\u001b[43m)\u001b[49m\n\u001b[1;32m      2\u001b[0m confusion_mtx_percent \u001b[38;5;241m=\u001b[39m confusion_mtx\u001b[38;5;241m.\u001b[39mastype(\u001b[38;5;124m'\u001b[39m\u001b[38;5;124mfloat\u001b[39m\u001b[38;5;124m'\u001b[39m) \u001b[38;5;241m/\u001b[39m confusion_mtx\u001b[38;5;241m.\u001b[39msum(axis\u001b[38;5;241m=\u001b[39m\u001b[38;5;241m1\u001b[39m)[:, np\u001b[38;5;241m.\u001b[39mnewaxis] \u001b[38;5;241m*\u001b[39m \u001b[38;5;241m100\u001b[39m\n\u001b[1;32m      3\u001b[0m plt\u001b[38;5;241m.\u001b[39mfigure(figsize\u001b[38;5;241m=\u001b[39m(\u001b[38;5;241m6\u001b[39m, \u001b[38;5;241m4\u001b[39m))\n",
      "File \u001b[0;32m/Library/Frameworks/Python.framework/Versions/3.10/lib/python3.10/site-packages/sklearn/metrics/_classification.py:317\u001b[0m, in \u001b[0;36mconfusion_matrix\u001b[0;34m(y_true, y_pred, labels, sample_weight, normalize)\u001b[0m\n\u001b[1;32m    232\u001b[0m \u001b[38;5;28;01mdef\u001b[39;00m \u001b[38;5;21mconfusion_matrix\u001b[39m(\n\u001b[1;32m    233\u001b[0m     y_true, y_pred, \u001b[38;5;241m*\u001b[39m, labels\u001b[38;5;241m=\u001b[39m\u001b[38;5;28;01mNone\u001b[39;00m, sample_weight\u001b[38;5;241m=\u001b[39m\u001b[38;5;28;01mNone\u001b[39;00m, normalize\u001b[38;5;241m=\u001b[39m\u001b[38;5;28;01mNone\u001b[39;00m\n\u001b[1;32m    234\u001b[0m ):\n\u001b[1;32m    235\u001b[0m \u001b[38;5;250m    \u001b[39m\u001b[38;5;124;03m\"\"\"Compute confusion matrix to evaluate the accuracy of a classification.\u001b[39;00m\n\u001b[1;32m    236\u001b[0m \n\u001b[1;32m    237\u001b[0m \u001b[38;5;124;03m    By definition a confusion matrix :math:`C` is such that :math:`C_{i, j}`\u001b[39;00m\n\u001b[0;32m   (...)\u001b[0m\n\u001b[1;32m    315\u001b[0m \u001b[38;5;124;03m    (0, 2, 1, 1)\u001b[39;00m\n\u001b[1;32m    316\u001b[0m \u001b[38;5;124;03m    \"\"\"\u001b[39;00m\n\u001b[0;32m--> 317\u001b[0m     y_type, y_true, y_pred \u001b[38;5;241m=\u001b[39m \u001b[43m_check_targets\u001b[49m\u001b[43m(\u001b[49m\u001b[43my_true\u001b[49m\u001b[43m,\u001b[49m\u001b[43m \u001b[49m\u001b[43my_pred\u001b[49m\u001b[43m)\u001b[49m\n\u001b[1;32m    318\u001b[0m     \u001b[38;5;28;01mif\u001b[39;00m y_type \u001b[38;5;129;01mnot\u001b[39;00m \u001b[38;5;129;01min\u001b[39;00m (\u001b[38;5;124m\"\u001b[39m\u001b[38;5;124mbinary\u001b[39m\u001b[38;5;124m\"\u001b[39m, \u001b[38;5;124m\"\u001b[39m\u001b[38;5;124mmulticlass\u001b[39m\u001b[38;5;124m\"\u001b[39m):\n\u001b[1;32m    319\u001b[0m         \u001b[38;5;28;01mraise\u001b[39;00m \u001b[38;5;167;01mValueError\u001b[39;00m(\u001b[38;5;124m\"\u001b[39m\u001b[38;5;132;01m%s\u001b[39;00m\u001b[38;5;124m is not supported\u001b[39m\u001b[38;5;124m\"\u001b[39m \u001b[38;5;241m%\u001b[39m y_type)\n",
      "File \u001b[0;32m/Library/Frameworks/Python.framework/Versions/3.10/lib/python3.10/site-packages/sklearn/metrics/_classification.py:86\u001b[0m, in \u001b[0;36m_check_targets\u001b[0;34m(y_true, y_pred)\u001b[0m\n\u001b[1;32m     59\u001b[0m \u001b[38;5;28;01mdef\u001b[39;00m \u001b[38;5;21m_check_targets\u001b[39m(y_true, y_pred):\n\u001b[1;32m     60\u001b[0m \u001b[38;5;250m    \u001b[39m\u001b[38;5;124;03m\"\"\"Check that y_true and y_pred belong to the same classification task.\u001b[39;00m\n\u001b[1;32m     61\u001b[0m \n\u001b[1;32m     62\u001b[0m \u001b[38;5;124;03m    This converts multiclass or binary types to a common shape, and raises a\u001b[39;00m\n\u001b[0;32m   (...)\u001b[0m\n\u001b[1;32m     84\u001b[0m \u001b[38;5;124;03m    y_pred : array or indicator matrix\u001b[39;00m\n\u001b[1;32m     85\u001b[0m \u001b[38;5;124;03m    \"\"\"\u001b[39;00m\n\u001b[0;32m---> 86\u001b[0m     \u001b[43mcheck_consistent_length\u001b[49m\u001b[43m(\u001b[49m\u001b[43my_true\u001b[49m\u001b[43m,\u001b[49m\u001b[43m \u001b[49m\u001b[43my_pred\u001b[49m\u001b[43m)\u001b[49m\n\u001b[1;32m     87\u001b[0m     type_true \u001b[38;5;241m=\u001b[39m type_of_target(y_true, input_name\u001b[38;5;241m=\u001b[39m\u001b[38;5;124m\"\u001b[39m\u001b[38;5;124my_true\u001b[39m\u001b[38;5;124m\"\u001b[39m)\n\u001b[1;32m     88\u001b[0m     type_pred \u001b[38;5;241m=\u001b[39m type_of_target(y_pred, input_name\u001b[38;5;241m=\u001b[39m\u001b[38;5;124m\"\u001b[39m\u001b[38;5;124my_pred\u001b[39m\u001b[38;5;124m\"\u001b[39m)\n",
      "File \u001b[0;32m/Library/Frameworks/Python.framework/Versions/3.10/lib/python3.10/site-packages/sklearn/utils/validation.py:397\u001b[0m, in \u001b[0;36mcheck_consistent_length\u001b[0;34m(*arrays)\u001b[0m\n\u001b[1;32m    395\u001b[0m uniques \u001b[38;5;241m=\u001b[39m np\u001b[38;5;241m.\u001b[39munique(lengths)\n\u001b[1;32m    396\u001b[0m \u001b[38;5;28;01mif\u001b[39;00m \u001b[38;5;28mlen\u001b[39m(uniques) \u001b[38;5;241m>\u001b[39m \u001b[38;5;241m1\u001b[39m:\n\u001b[0;32m--> 397\u001b[0m     \u001b[38;5;28;01mraise\u001b[39;00m \u001b[38;5;167;01mValueError\u001b[39;00m(\n\u001b[1;32m    398\u001b[0m         \u001b[38;5;124m\"\u001b[39m\u001b[38;5;124mFound input variables with inconsistent numbers of samples: \u001b[39m\u001b[38;5;132;01m%r\u001b[39;00m\u001b[38;5;124m\"\u001b[39m\n\u001b[1;32m    399\u001b[0m         \u001b[38;5;241m%\u001b[39m [\u001b[38;5;28mint\u001b[39m(l) \u001b[38;5;28;01mfor\u001b[39;00m l \u001b[38;5;129;01min\u001b[39;00m lengths]\n\u001b[1;32m    400\u001b[0m     )\n",
      "\u001b[0;31mValueError\u001b[0m: Found input variables with inconsistent numbers of samples: [219, 718]"
     ]
    }
   ],
   "source": [
    "confusion_mtx = confusion_matrix(y_test, pred2)\n",
    "confusion_mtx_percent = confusion_mtx.astype('float') / confusion_mtx.sum(axis=1)[:, np.newaxis] * 100\n",
    "plt.figure(figsize=(6, 4))\n",
    "sns.heatmap(confusion_mtx_percent, annot=True, fmt='.2f', cmap='Reds', cbar=False,\n",
    "            xticklabels=['Not in HOF', 'In HOF'],\n",
    "            yticklabels=['Not in HOF', 'In HOF'])\n",
    "plt.xlabel('Predicted')\n",
    "plt.ylabel('Actual')\n",
    "plt.title('Confusion Matrix (Percentages)')\n",
    "plt.show()"
   ]
  },
  {
   "cell_type": "markdown",
   "id": "6962f8c8-0eab-4f38-b33d-c3b2687d54ed",
   "metadata": {},
   "source": [
    "This model did slightly better than before."
   ]
  },
  {
   "cell_type": "markdown",
   "id": "0f9b9727-8d9b-451f-816a-34457b020943",
   "metadata": {},
   "source": [
    "## Model 3: Account for extraneous factors"
   ]
  },
  {
   "cell_type": "markdown",
   "id": "df69ceea-3907-46f6-b49b-28df7c6f9abc",
   "metadata": {},
   "source": [
    "Utilizing positions could make this more accurate because different positions have different expections in terms of stats. Instead of just including it with the features, I will make it an indicator variable with an encoder"
   ]
  },
  {
   "cell_type": "markdown",
   "id": "ea0aed04-0aa3-4bcb-9c11-accca2d1482b",
   "metadata": {},
   "source": [
    "Additionally, a couple changes to the data itself:\n",
    "- The NBA has changed a lot in its history, so I will filter out players that retired before 1970 (I tested out a few years and this appears to be the sweet spot of recent enough data, but also enough data to train).\n",
    "- Many players made it into the Hall of Fame for their international career, coaching career, or being a community leader, so I will filter for players that played a substantial amount of games"
   ]
  },
  {
   "cell_type": "code",
   "execution_count": 6794,
   "id": "e8c08d6a-d504-4477-a6a3-3eb11317c9f1",
   "metadata": {},
   "outputs": [],
   "source": [
    "eligible = eligible[eligible['years played'] > 6]\n",
    "eligible = eligible[eligible['g'] > 400]\n",
    "eligible_filtered = eligible[eligible['last year'] > 1970]"
   ]
  },
  {
   "cell_type": "markdown",
   "id": "5ca50ba6-4bab-4d6b-af9e-c64871fb4c64",
   "metadata": {},
   "source": [
    "I will make the model with functions now so I can save and reuse the trained model. "
   ]
  },
  {
   "cell_type": "code",
   "execution_count": 6795,
   "id": "f158eec0-c648-402e-ba08-f3bf0fc26bff",
   "metadata": {},
   "outputs": [],
   "source": [
    "def encode_and_scale(data, features, response_variable):\n",
    "    # To account for position, I will first use OneHotEncoder\n",
    "    position_column = data['pos']\n",
    "    encoder = OneHotEncoder(sparse_output=False)\n",
    "    # Reshape and fit-transform the position column\n",
    "    position_encoded = encoder.fit_transform(position_column.values.reshape(-1, 1))\n",
    "    # Get the feature names for the one-hot encoded position variables\n",
    "    position_feature_names = encoder.get_feature_names_out(['pos'])\n",
    "    # Create a DataFrame with the one-hot encoded position variables\n",
    "    position_df = pd.DataFrame(position_encoded, columns=position_feature_names)\n",
    "    # Concatenate the position DataFrame with original data\n",
    "    player_id = data['player_id']\n",
    "    data.reset_index(drop=True, inplace=True)\n",
    "    data_with_position = pd.concat([data, position_df], axis=1)\n",
    "    # add position indicators to features\n",
    "    updated_features = features + list(position_df.columns)\n",
    "    x = data_with_position[updated_features]\n",
    "    y = data_with_position[response_variable]\n",
    "    sc = StandardScaler()\n",
    "    x_scaled = sc.fit_transform(x)\n",
    "    return x_scaled, y, player_id\n",
    "\n",
    "def train_random_forest(data, features, response_variable, n_estimators, save_path):\n",
    "    x, y, _ = encode_and_scale(data, features, response_variable)\n",
    "    rfc = RandomForestClassifier(n_estimators=n_estimators, random_state=42)\n",
    "    rfc.fit(x, y)\n",
    "    # Save the trained model\n",
    "    joblib.dump(rfc, save_path)\n",
    "\n",
    "def load_and_predict(saved_model_path, new_player_data, features, response_variable):\n",
    "    loaded_model = joblib.load(saved_model_path)\n",
    "    x, y, id = encode_and_scale(new_player_data, features, response_variable)\n",
    "    predictions = loaded_model.predict(x)\n",
    "    predictions_df = pd.DataFrame({'Player ID': id, 'Predicted': predictions})\n",
    "    return predictions_df"
   ]
  },
  {
   "cell_type": "markdown",
   "id": "e0dffaa5-823e-4bc2-b8ff-59512cfa1198",
   "metadata": {},
   "source": [
    "I tested different features here again to see what worked best."
   ]
  },
  {
   "cell_type": "code",
   "execution_count": 6796,
   "id": "f8b074be-d760-49a0-9db0-e5f0c016a3df",
   "metadata": {},
   "outputs": [],
   "source": [
    "# Train the model\n",
    "features = ['all stars', 'MVPs', 'ws', 'pts', 'win%', 'trb', 'ast', 'fgm', 'mpg', 'stl', 'blk', 'DPOY share', 'ppg', 'rpg']\n",
    "response = 'hof'\n",
    "train_data, test_data = train_test_split(eligible_filtered, test_size=0.2, random_state=42) # 80/20 split\n",
    "train_random_forest(train_data, features, response, n_estimators=200, save_path='trained_rfc2.pkl')"
   ]
  },
  {
   "cell_type": "code",
   "execution_count": 6797,
   "id": "6a0f042c-f03d-48c7-86f4-a8c031bf88cb",
   "metadata": {},
   "outputs": [],
   "source": [
    "# test the model\n",
    "pred3 = load_and_predict('trained_rfc2.pkl', test_data, features, response)"
   ]
  },
  {
   "cell_type": "markdown",
   "id": "b6a648ff-1315-4a9f-b51c-c32cfe5877dc",
   "metadata": {},
   "source": [
    "#### Accuracy Score:"
   ]
  },
  {
   "cell_type": "code",
   "execution_count": 6798,
   "id": "742459d9-5183-4e2d-b07d-b17e66c58c45",
   "metadata": {},
   "outputs": [
    {
     "data": {
      "text/plain": [
       "0.9817351598173516"
      ]
     },
     "execution_count": 6798,
     "metadata": {},
     "output_type": "execute_result"
    }
   ],
   "source": [
    "y_test = test_data['hof']\n",
    "accuracy_score(y_test, pred3['Predicted'])"
   ]
  },
  {
   "cell_type": "markdown",
   "id": "117d49dd-dfc0-4a96-b08e-0e8f9c2503b7",
   "metadata": {},
   "source": [
    "#### Classification Report:"
   ]
  },
  {
   "cell_type": "code",
   "execution_count": 6799,
   "id": "21214a6d-3f03-43e0-af93-4fb92bbe3b4c",
   "metadata": {},
   "outputs": [
    {
     "data": {
      "text/html": [
       "<div>\n",
       "<style scoped>\n",
       "    .dataframe tbody tr th:only-of-type {\n",
       "        vertical-align: middle;\n",
       "    }\n",
       "\n",
       "    .dataframe tbody tr th {\n",
       "        vertical-align: top;\n",
       "    }\n",
       "\n",
       "    .dataframe thead th {\n",
       "        text-align: right;\n",
       "    }\n",
       "</style>\n",
       "<table border=\"1\" class=\"dataframe\">\n",
       "  <thead>\n",
       "    <tr style=\"text-align: right;\">\n",
       "      <th></th>\n",
       "      <th>Not HOF</th>\n",
       "      <th>HOF</th>\n",
       "      <th>accuracy</th>\n",
       "      <th>macro avg</th>\n",
       "      <th>weighted avg</th>\n",
       "    </tr>\n",
       "  </thead>\n",
       "  <tbody>\n",
       "    <tr>\n",
       "      <th>precision</th>\n",
       "      <td>0.989796</td>\n",
       "      <td>0.913043</td>\n",
       "      <td>0.981735</td>\n",
       "      <td>0.95142</td>\n",
       "      <td>0.981735</td>\n",
       "    </tr>\n",
       "    <tr>\n",
       "      <th>recall</th>\n",
       "      <td>0.989796</td>\n",
       "      <td>0.913043</td>\n",
       "      <td>0.981735</td>\n",
       "      <td>0.95142</td>\n",
       "      <td>0.981735</td>\n",
       "    </tr>\n",
       "    <tr>\n",
       "      <th>f1-score</th>\n",
       "      <td>0.989796</td>\n",
       "      <td>0.913043</td>\n",
       "      <td>0.981735</td>\n",
       "      <td>0.95142</td>\n",
       "      <td>0.981735</td>\n",
       "    </tr>\n",
       "    <tr>\n",
       "      <th>support</th>\n",
       "      <td>196.000000</td>\n",
       "      <td>23.000000</td>\n",
       "      <td>0.981735</td>\n",
       "      <td>219.00000</td>\n",
       "      <td>219.000000</td>\n",
       "    </tr>\n",
       "  </tbody>\n",
       "</table>\n",
       "</div>"
      ],
      "text/plain": [
       "              Not HOF        HOF  accuracy  macro avg  weighted avg\n",
       "precision    0.989796   0.913043  0.981735    0.95142      0.981735\n",
       "recall       0.989796   0.913043  0.981735    0.95142      0.981735\n",
       "f1-score     0.989796   0.913043  0.981735    0.95142      0.981735\n",
       "support    196.000000  23.000000  0.981735  219.00000    219.000000"
      ]
     },
     "execution_count": 6799,
     "metadata": {},
     "output_type": "execute_result"
    }
   ],
   "source": [
    "target_names = ['Not HOF', 'HOF']\n",
    "report = classification_report(y_test, pred3['Predicted'], target_names=target_names, output_dict=True)\n",
    "pd.DataFrame(report)"
   ]
  },
  {
   "cell_type": "markdown",
   "id": "7e74bfd4-101a-4227-b38e-bd36892fc3b3",
   "metadata": {},
   "source": [
    "#### Confusion Matrix Heatmap:"
   ]
  },
  {
   "cell_type": "code",
   "execution_count": 6800,
   "id": "0b3e966d-ec07-4b04-b3d5-48dbde894e30",
   "metadata": {},
   "outputs": [
    {
     "data": {
      "image/png": "[encoded data removed]",
      "text/plain": [
       "<Figure size 800x600 with 1 Axes>"
      ]
     },
     "metadata": {},
     "output_type": "display_data"
    }
   ],
   "source": [
    "confusion_mtx = confusion_matrix(y_test, pred3['Predicted'])\n",
    "confusion_mtx_percent = confusion_mtx.astype('float') / confusion_mtx.sum(axis=1)[:, np.newaxis] * 100\n",
    "plt.figure(figsize=(6, 4))\n",
    "sns.heatmap(confusion_mtx_percent, annot=True, fmt='.2f', cmap='Reds', cbar=False,\n",
    "            xticklabels=['Not in HOF', 'In HOF'],\n",
    "            yticklabels=['Not in HOF', 'In HOF'])\n",
    "plt.xlabel('Predicted')\n",
    "plt.ylabel('Actual')\n",
    "plt.title('Confusion Matrix (Percentages)')\n",
    "plt.show()"
   ]
  },
  {
   "cell_type": "markdown",
   "id": "4e905cce-7250-4798-8400-bf93ec78509d",
   "metadata": {},
   "source": [
    "The results show major improvement in accurately predicting players in the HOF, but I still want to see the incorrect results and figure out why they occured. "
   ]
  },
  {
   "cell_type": "code",
   "execution_count": 6801,
   "id": "2d26d89a-9bc6-42a9-b6d2-2b7123f91ccc",
   "metadata": {},
   "outputs": [
    {
     "name": "stdout",
     "output_type": "stream",
     "text": [
      "Player ID: 3218, Player: Shawn Marion, Predicted: True, Actual: False\n",
      "Player ID: 1021, Player: Phil Jackson, Predicted: False, Actual: True\n",
      "Player ID: 1767, Player: Marques Johnson, Predicted: True, Actual: False\n",
      "Player ID: 1323, Player: Rudy Tomjanovich, Predicted: False, Actual: True\n"
     ]
    }
   ],
   "source": [
    "# print out all the missed predictions\n",
    "for index, row in pred3.iterrows():\n",
    "    player_id = row['Player ID']\n",
    "    actual_result = careers.loc[careers['player_id'] == player_id, 'hof'].values[0]\n",
    "    predicted_result = row['Predicted']\n",
    "    if actual_result == True and predicted_result == False:\n",
    "        player = careers.loc[careers['player_id'] == player_id, 'player'].values[0]\n",
    "        print(f\"Player ID: {player_id}, Player: {player}, Predicted: {predicted_result}, Actual: {actual_result}\")\n",
    "    if actual_result == False and predicted_result == True:\n",
    "        player = careers.loc[careers['player_id'] == player_id, 'player'].values[0]\n",
    "        print(f\"Player ID: {player_id}, Player: {player}, Predicted: {predicted_result}, Actual: {actual_result}\")"
   ]
  },
  {
   "cell_type": "markdown",
   "id": "3cc1b287-4d46-48a0-b4cb-91c2c9e29980",
   "metadata": {
    "jp-MarkdownHeadingCollapsed": true
   },
   "source": [
    "After looking at these, I can conclude the model was extremely accurate. \n",
    "- Phil Jackson and Rudy Tomjanovich are in the HOF for being legendary coaches.\n",
    "- Shawn Marion and Marques Johnson are often regarded as two of the best NBA players to not be inducted. Ultimately, people make the decision instead of stats, so there will always be debate. "
   ]
  },
  {
   "cell_type": "markdown",
   "id": "c5ec466e-6c4d-4fe8-889b-74d9beefff10",
   "metadata": {},
   "source": [
    "With these considerations in mind, I feel comfortable predicting Hall of Fame status with this model and it will be more than adequate for the next step of assigning a percentage chance of making the Hall of Fame to each actve player. "
   ]
  },
  {
   "cell_type": "markdown",
   "id": "b190ab04-0d87-433e-ba79-28bcdd3d8dcf",
   "metadata": {},
   "source": [
    "First, lets see if the model can predict the 2023 Hall of Fame class that just got inducted (as of now, not updated in the data)"
   ]
  },
  {
   "cell_type": "code",
   "execution_count": 6802,
   "id": "9da200ac-6887-4cf7-b517-f7aff0c273ac",
   "metadata": {},
   "outputs": [
    {
     "name": "stdout",
     "output_type": "stream",
     "text": [
      "2023 Hall of Fame Class:\n",
      "Dirk Nowitzki\n",
      "Dwyane Wade\n",
      "Luol Deng\n",
      "Pau Gasol\n",
      "Tony Parker\n"
     ]
    }
   ],
   "source": [
    "class_of_2023 = careers[careers['last year'] == 2019] # players retired 4 full seasons ago\n",
    "predictions = load_and_predict('trained_rfc2.pkl', class_of_2023, features, response)\n",
    "print('2023 Hall of Fame Class:')\n",
    "for index, row in predictions.iterrows():\n",
    "    player_id = row['Player ID']\n",
    "    predicted_result = row['Predicted']\n",
    "    if predicted_result:\n",
    "        player = careers.loc[careers['player_id'] == player_id, 'player'].values[0]\n",
    "        print(player)"
   ]
  },
  {
   "cell_type": "markdown",
   "id": "884e4038-e896-4d5b-abc0-0526a37943fa",
   "metadata": {},
   "source": [
    "#### The model almost predicted the 2023 Hall of Fame class perfectly - all were recently inducted, except Luol Deng. \n",
    "- Deng had a very long career with solid stats and 2 all-star games and he can still make it in the future. Personally, I would not include him in the HOF, but I understand why the model predicted it. "
   ]
  },
  {
   "cell_type": "markdown",
   "id": "009432ca-5fde-4479-84ea-235f8ee638ee",
   "metadata": {},
   "source": [
    "## Percentage Chance of Active Players"
   ]
  },
  {
   "cell_type": "markdown",
   "id": "5f2e9772-7d38-4299-a92d-b44f33ba36e9",
   "metadata": {},
   "source": [
    "#### To calculate each active players chance of making the Hall of Fame if they retired today, I will use the model I have saved with a feature of Random Forest to assign the probabilities. "
   ]
  },
  {
   "cell_type": "code",
   "execution_count": 6803,
   "id": "659fb6a6-532a-4ee7-a84b-f398c8b788ab",
   "metadata": {},
   "outputs": [],
   "source": [
    "# function for assigning percentages\n",
    "def chance(saved_model_path, new_player_data, features, response_variable):\n",
    "    loaded_model = joblib.load(saved_model_path)\n",
    "    x, y, id = encode_and_scale(new_player_data, features, response_variable)\n",
    "    probabilities = loaded_model.predict_proba(x)\n",
    "    players = careers.loc[careers['player_id'].isin(id), 'player'].tolist()\n",
    "    probabilities_df = pd.DataFrame({'Player ID': id, 'Player': players, 'HOF Chance': probabilities[:, 1]})\n",
    "    return probabilities_df"
   ]
  },
  {
   "cell_type": "code",
   "execution_count": 6804,
   "id": "1c807a94-0f44-4d9a-adf1-5ea32b1232e4",
   "metadata": {},
   "outputs": [
    {
     "data": {
      "text/html": [
       "<div>\n",
       "<style scoped>\n",
       "    .dataframe tbody tr th:only-of-type {\n",
       "        vertical-align: middle;\n",
       "    }\n",
       "\n",
       "    .dataframe tbody tr th {\n",
       "        vertical-align: top;\n",
       "    }\n",
       "\n",
       "    .dataframe thead th {\n",
       "        text-align: right;\n",
       "    }\n",
       "</style>\n",
       "<table border=\"1\" class=\"dataframe\">\n",
       "  <thead>\n",
       "    <tr style=\"text-align: right;\">\n",
       "      <th></th>\n",
       "      <th>Player ID</th>\n",
       "      <th>Player</th>\n",
       "      <th>HOF Chance</th>\n",
       "    </tr>\n",
       "  </thead>\n",
       "  <tbody>\n",
       "    <tr>\n",
       "      <th>215</th>\n",
       "      <td>3880</td>\n",
       "      <td>James Harden</td>\n",
       "      <td>1.00</td>\n",
       "    </tr>\n",
       "    <tr>\n",
       "      <th>333</th>\n",
       "      <td>3463</td>\n",
       "      <td>LeBron James</td>\n",
       "      <td>1.00</td>\n",
       "    </tr>\n",
       "    <tr>\n",
       "      <th>307</th>\n",
       "      <td>3770</td>\n",
       "      <td>Kevin Durant</td>\n",
       "      <td>0.98</td>\n",
       "    </tr>\n",
       "    <tr>\n",
       "      <th>470</th>\n",
       "      <td>3903</td>\n",
       "      <td>Stephen Curry</td>\n",
       "      <td>0.98</td>\n",
       "    </tr>\n",
       "    <tr>\n",
       "      <th>448</th>\n",
       "      <td>3849</td>\n",
       "      <td>Russell Westbrook</td>\n",
       "      <td>0.96</td>\n",
       "    </tr>\n",
       "  </tbody>\n",
       "</table>\n",
       "</div>"
      ],
      "text/plain": [
       "     Player ID             Player  HOF Chance\n",
       "215       3880       James Harden        1.00\n",
       "333       3463       LeBron James        1.00\n",
       "307       3770       Kevin Durant        0.98\n",
       "470       3903      Stephen Curry        0.98\n",
       "448       3849  Russell Westbrook        0.96"
      ]
     },
     "execution_count": 6804,
     "metadata": {},
     "output_type": "execute_result"
    }
   ],
   "source": [
    "# predict active players\n",
    "active = careers[careers['last year'] == 2023]\n",
    "# some players are getting in that barely played but their per minute stats are overwhelming so I need to edit again\n",
    "# I will use the same criteria from earlier - substantial amount of games played\n",
    "active = active[active['years played'] > 5]\n",
    "active = active[active['g'] > 400]\n",
    "probabilities = chance('trained_rfc2.pkl', active, features, response).round(2)\n",
    "probabilities = probabilities.sort_values(by='HOF Chance', ascending=False)\n",
    "probabilities.head()"
   ]
  },
  {
   "cell_type": "markdown",
   "id": "e82f0aeb-cf56-4fe6-a018-bb040b0a6af3",
   "metadata": {},
   "source": [
    "#### The top 5 look accurate. Full list will be in hofChances.csv in the 'Predictions' folder."
   ]
  },
  {
   "cell_type": "code",
   "execution_count": 6805,
   "id": "d6c97eb1-82bb-45d6-9d61-7b796db06553",
   "metadata": {},
   "outputs": [],
   "source": [
    "probabilities.to_csv('hofChances.csv', index=False)"
   ]
  },
  {
   "cell_type": "markdown",
   "id": "a4b4f923-7f13-4f6f-8085-ddaabf384aa9",
   "metadata": {},
   "source": [
    "## Hall of Fame Probabilities Analysis\n",
    "- There is no way of measuring how accurate these probabilities are until these players retire, but to my eye, the list is nearly perfect. All of the players listed above 90% are the exact players I would consider locks to be first-ballot Hall of Famers. Everyone around 50% is a toss-up, or at least not first-ballot, in my opinion. \n",
    "- Draymond Green and Klay Thompson are the only players I would say definitely need move up. That makes sense, though, becuase they don't have the most outstanding stats, but everyone knows they were key members of a dynasty.\n",
    "- I would also personally move Giannis and Jokic up, but they are still young and quite high already.\n",
    "- In the situation of those players, including championships would help each move up the rankings, but there are other situations where it would complicate it. "
   ]
  },
  {
   "cell_type": "code",
   "execution_count": null,
   "id": "227eb06f-dac7-4220-b021-2857ca154e32",
   "metadata": {},
   "outputs": [],
   "source": []
  }
 ],
 "metadata": {
  "kernelspec": {
   "display_name": "Python 3 (ipykernel)",
   "language": "python",
   "name": "python3"
  },
  "language_info": {
   "codemirror_mode": {
    "name": "ipython",
    "version": 3
   },
   "file_extension": ".py",
   "mimetype": "text/x-python",
   "name": "python",
   "nbconvert_exporter": "python",
   "pygments_lexer": "ipython3",
   "version": "3.10.3"
  }
 },
 "nbformat": 4,
 "nbformat_minor": 5
}
